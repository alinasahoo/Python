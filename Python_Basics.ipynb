{
  "nbformat": 4,
  "nbformat_minor": 0,
  "metadata": {
    "colab": {
      "provenance": [],
      "authorship_tag": "ABX9TyOLnvOFFgzW25GAV1giCcv2",
      "include_colab_link": true
    },
    "kernelspec": {
      "name": "python3",
      "display_name": "Python 3"
    },
    "language_info": {
      "name": "python"
    }
  },
  "cells": [
    {
      "cell_type": "markdown",
      "metadata": {
        "id": "view-in-github",
        "colab_type": "text"
      },
      "source": [
        "<a href=\"https://colab.research.google.com/github/alinasahoo/Python/blob/main/Python_Basics.ipynb\" target=\"_parent\"><img src=\"https://colab.research.google.com/assets/colab-badge.svg\" alt=\"Open In Colab\"/></a>"
      ]
    },
    {
      "cell_type": "code",
      "execution_count": 1,
      "metadata": {
        "colab": {
          "base_uri": "https://localhost:8080/"
        },
        "id": "u20F8Stgpbye",
        "outputId": "740eaf58-7466-436e-f443-ac0594f4f57a"
      },
      "outputs": [
        {
          "output_type": "stream",
          "name": "stdout",
          "text": [
            "Hello World\n",
            "Hello world\n"
          ]
        }
      ],
      "source": [
        "# Output data to console:\n",
        "print(\"Hello World\")\n",
        "print('Hello world') # single inverted comma also allowed"
      ]
    },
    {
      "cell_type": "code",
      "source": [
        "# Variables : lowercase names, there name should tell what they hold\n",
        "my_message = \"Hello World from variable\"\n",
        "print(my_message)"
      ],
      "metadata": {
        "colab": {
          "base_uri": "https://localhost:8080/"
        },
        "id": "8IohtXsqpuBb",
        "outputId": "7dfdf3b2-bdb5-4023-ae9d-8832feb0b76b"
      },
      "execution_count": 2,
      "outputs": [
        {
          "output_type": "stream",
          "name": "stdout",
          "text": [
            "Hello World from variable\n"
          ]
        }
      ]
    },
    {
      "cell_type": "code",
      "source": [
        "# Integer variable\n",
        "x = 3\n",
        "print(x)"
      ],
      "metadata": {
        "colab": {
          "base_uri": "https://localhost:8080/"
        },
        "id": "DFZR0dTXpwFk",
        "outputId": "b78d8dd9-b84e-4e08-8559-98e10ac05368"
      },
      "execution_count": 3,
      "outputs": [
        {
          "output_type": "stream",
          "name": "stdout",
          "text": [
            "3\n"
          ]
        }
      ]
    },
    {
      "cell_type": "code",
      "source": [
        "# Decimal / Float variable\n",
        "y = 3.05\n",
        "print(y)"
      ],
      "metadata": {
        "colab": {
          "base_uri": "https://localhost:8080/"
        },
        "id": "IgIneBnhpzCG",
        "outputId": "f07a2e78-4849-4932-dc8e-392d4fa01a39"
      },
      "execution_count": 4,
      "outputs": [
        {
          "output_type": "stream",
          "name": "stdout",
          "text": [
            "3.05\n"
          ]
        }
      ]
    },
    {
      "cell_type": "code",
      "source": [
        "# We can use both \"\" quote and ''. e.g. if we want to write Bobby's world.\n",
        "print(\"Bobby's World\");"
      ],
      "metadata": {
        "colab": {
          "base_uri": "https://localhost:8080/"
        },
        "id": "Wxl6oPiip2iy",
        "outputId": "41013a95-f798-4890-c5b8-6fd9eb8ec39f"
      },
      "execution_count": 5,
      "outputs": [
        {
          "output_type": "stream",
          "name": "stdout",
          "text": [
            "Bobby's World\n"
          ]
        }
      ]
    },
    {
      "cell_type": "code",
      "source": [
        "new_message = \"Bobby's World\"\n",
        "print(new_message)"
      ],
      "metadata": {
        "colab": {
          "base_uri": "https://localhost:8080/"
        },
        "id": "rKTY4DCop-qb",
        "outputId": "18627987-8a4b-415d-e6ce-b62aa60c12ab"
      },
      "execution_count": 6,
      "outputs": [
        {
          "output_type": "stream",
          "name": "stdout",
          "text": [
            "Bobby's World\n"
          ]
        }
      ]
    },
    {
      "cell_type": "code",
      "source": [
        "print('hello')\n",
        "print('hee') # Unnecessary Indentation is not allowed"
      ],
      "metadata": {
        "colab": {
          "base_uri": "https://localhost:8080/"
        },
        "id": "1R-mMBT5qKWZ",
        "outputId": "53654623-8836-4c59-e536-ffeb499b41bd"
      },
      "execution_count": 7,
      "outputs": [
        {
          "output_type": "stream",
          "name": "stdout",
          "text": [
            "hello\n",
            "hee\n"
          ]
        }
      ]
    },
    {
      "cell_type": "markdown",
      "source": [
        "**Strings**"
      ],
      "metadata": {
        "id": "ZmGszr4cqTVs"
      }
    },
    {
      "cell_type": "code",
      "source": [
        "# Access a particular character using index\n",
        "message = 'Hello Alina'\n",
        "print(message[0]) # Prints H\n",
        "print(message[0:5]) # Prints all characters from 0 to **4th** (not 5th) index i.e. Hello, 2nd number is not included in the range\n",
        "print(message[:5]) # This will print same as it assumes first integer is 0\n",
        "print(message[3:]) # Here it will consider the 2nd number to be the last index of string"
      ],
      "metadata": {
        "colab": {
          "base_uri": "https://localhost:8080/"
        },
        "id": "GeImyl9JqYWw",
        "outputId": "2ced575f-ad59-4b58-c0a7-e9785d62e999"
      },
      "execution_count": 8,
      "outputs": [
        {
          "output_type": "stream",
          "name": "stdout",
          "text": [
            "H\n",
            "Hello\n",
            "Hello\n",
            "lo Alina\n"
          ]
        }
      ]
    },
    {
      "cell_type": "code",
      "source": [
        "message = \"Hello Python\"\n",
        "print(message[0]) # first character of the string\n",
        "print(message[0:5]) #prints from the 0th index to the end of the 5th index of the string.\n",
        "print(message[:5]) #prints from the start to the fifth index of the string.\n",
        "print(message[4:]) # This will start printing from the 4th index to the end of the string."
      ],
      "metadata": {
        "colab": {
          "base_uri": "https://localhost:8080/"
        },
        "id": "nRBVOnF_qglC",
        "outputId": "bba08d20-c86a-4d32-ee14-dd5f5aa8c5c3"
      },
      "execution_count": 9,
      "outputs": [
        {
          "output_type": "stream",
          "name": "stdout",
          "text": [
            "H\n",
            "Hello\n",
            "Hello\n",
            "o Python\n"
          ]
        }
      ]
    },
    {
      "cell_type": "code",
      "source": [
        "print(message.lower()) # Prints message in lower case\n",
        "print(message.upper()) # Prints message in upper case\n",
        "print(message.count(\"l\")) # Counts the number of times a given string appears in message\n",
        "print(message.count(\"Hello\"))"
      ],
      "metadata": {
        "colab": {
          "base_uri": "https://localhost:8080/"
        },
        "id": "LhRpN-y-rG_I",
        "outputId": "8a795ba9-bb21-4297-a632-7344e7663537"
      },
      "execution_count": 10,
      "outputs": [
        {
          "output_type": "stream",
          "name": "stdout",
          "text": [
            "hello python\n",
            "HELLO PYTHON\n",
            "2\n",
            "1\n"
          ]
        }
      ]
    },
    {
      "cell_type": "code",
      "source": [
        "print(message.lower()) #prints the message in the lower case\n",
        "print(message.upper()) #prints the message in the upper case\n"
      ],
      "metadata": {
        "colab": {
          "base_uri": "https://localhost:8080/"
        },
        "id": "eBFKUG-Srhkh",
        "outputId": "0b4eb7d6-93d2-4f7a-c798-a2bf4be64541"
      },
      "execution_count": 11,
      "outputs": [
        {
          "output_type": "stream",
          "name": "stdout",
          "text": [
            "hello python\n",
            "HELLO PYTHON\n"
          ]
        }
      ]
    },
    {
      "cell_type": "code",
      "source": [
        "print(message.count(\"o\")) # Counts the no. of the times the string appears in the message\n",
        "print(message.count(\"Python\"))"
      ],
      "metadata": {
        "colab": {
          "base_uri": "https://localhost:8080/"
        },
        "id": "FpWqaKj4rvOf",
        "outputId": "16464703-5809-4520-9cb3-5e5abb4e0f46"
      },
      "execution_count": 12,
      "outputs": [
        {
          "output_type": "stream",
          "name": "stdout",
          "text": [
            "2\n",
            "1\n"
          ]
        }
      ]
    },
    {
      "cell_type": "code",
      "source": [
        "print(message.find(\"l\")) # Returns the first occurence of l character\n",
        "print(message.find(\"Universe\")) # returns -1 if nothing is found\n",
        "\n",
        "message.replace(\"Python\", \"Colab\") # Replaces all occurrences of Python with Colab"
      ],
      "metadata": {
        "colab": {
          "base_uri": "https://localhost:8080/",
          "height": 71
        },
        "id": "libNnse-s0bH",
        "outputId": "ec81cdeb-cd33-46b5-cf1c-d0c421ee5575"
      },
      "execution_count": 13,
      "outputs": [
        {
          "output_type": "stream",
          "name": "stdout",
          "text": [
            "2\n",
            "-1\n"
          ]
        },
        {
          "output_type": "execute_result",
          "data": {
            "text/plain": [
              "'Hello Colab'"
            ],
            "application/vnd.google.colaboratory.intrinsic+json": {
              "type": "string"
            }
          },
          "metadata": {},
          "execution_count": 13
        }
      ]
    },
    {
      "cell_type": "code",
      "source": [
        "# Concatenate strings\n",
        "message = \"Hello\" + \" \" + \"World\"\n",
        "print(message)  #concatenates the strings\n",
        "\n",
        "first_name = \"Alina\"\n",
        "last_name = \"Sahoo\"\n",
        "full_name = first_name + \" \" + last_name\n",
        "print(full_name) #prints the name [concatenated]\n",
        "\n",
        "# length of string\n",
        "name = 'Alina'\n",
        "print(len(name))"
      ],
      "metadata": {
        "colab": {
          "base_uri": "https://localhost:8080/"
        },
        "id": "jXtfohaxtFlZ",
        "outputId": "d1960df7-aa7f-4418-d8dd-43a21031e73f"
      },
      "execution_count": 14,
      "outputs": [
        {
          "output_type": "stream",
          "name": "stdout",
          "text": [
            "Hello World\n",
            "Alina Sahoo\n",
            "5\n"
          ]
        }
      ]
    },
    {
      "cell_type": "markdown",
      "source": [
        "Integers and Float Values"
      ],
      "metadata": {
        "id": "uMNRELhxwvNV"
      }
    },
    {
      "cell_type": "code",
      "source": [
        "num = 3 # Integer\n",
        "num = 3.14 # Float / Decimal / Fraction\n",
        "\n",
        "# Arithmetic operators\n",
        "# Add:              3 + 2\n",
        "# Subtract:         3 - 2\n",
        "# Multiply:         3 * 2\n",
        "# Divide:           3 / 2 (1.5)\n",
        "# Floor division:   3 // 2 (1)\n",
        "# Exponent:         3 ** 2 (3^2 = 9)\n",
        "# Modulus:          3 % 2 = 1 (remainder)\n",
        "\n",
        "print(3//2) # 1 [floor division]\n",
        "print(3**4) # 3 ^ 4 (3 to the power 4)"
      ],
      "metadata": {
        "colab": {
          "base_uri": "https://localhost:8080/"
        },
        "id": "A56RVBpGw0vP",
        "outputId": "16fa4b19-961c-4e5b-9fa1-d0c1ee8ee8b0"
      },
      "execution_count": 15,
      "outputs": [
        {
          "output_type": "stream",
          "name": "stdout",
          "text": [
            "1\n",
            "81\n"
          ]
        }
      ]
    },
    {
      "cell_type": "code",
      "source": [
        "# Checks if number is even or odd\n",
        "print(3%2) # 1 therefore odd\n",
        "print(4%2) # 0 therefore even"
      ],
      "metadata": {
        "colab": {
          "base_uri": "https://localhost:8080/"
        },
        "id": "nq9ycK69xjlx",
        "outputId": "7d5235ee-df7a-4ff1-9a8c-f8f1ab049af9"
      },
      "execution_count": 16,
      "outputs": [
        {
          "output_type": "stream",
          "name": "stdout",
          "text": [
            "1\n",
            "0\n"
          ]
        }
      ]
    },
    {
      "cell_type": "code",
      "source": [
        "print(4%2) # 4 is divisible by 2, hence 0"
      ],
      "metadata": {
        "colab": {
          "base_uri": "https://localhost:8080/"
        },
        "id": "y3mhwYA0xs5Z",
        "outputId": "9fea263b-535b-40b7-fe11-23cb051dc9f3"
      },
      "execution_count": 17,
      "outputs": [
        {
          "output_type": "stream",
          "name": "stdout",
          "text": [
            "0\n"
          ]
        }
      ]
    },
    {
      "cell_type": "code",
      "source": [
        "print(5%2) # (5 is not divisible by 2, hence 1)"
      ],
      "metadata": {
        "colab": {
          "base_uri": "https://localhost:8080/"
        },
        "id": "NKcAXw-zxwPV",
        "outputId": "04caef8a-1e16-4c8c-a513-fc3726a1a59b"
      },
      "execution_count": 18,
      "outputs": [
        {
          "output_type": "stream",
          "name": "stdout",
          "text": [
            "1\n"
          ]
        }
      ]
    },
    {
      "cell_type": "code",
      "source": [
        "num = 200\n",
        "num += 50 # equal to num = num + 50\n",
        "print(num) # this will print 250"
      ],
      "metadata": {
        "colab": {
          "base_uri": "https://localhost:8080/"
        },
        "id": "ay4dfls7yEK7",
        "outputId": "d74afcbe-955f-48ee-e605-a0d9fa832845"
      },
      "execution_count": 19,
      "outputs": [
        {
          "output_type": "stream",
          "name": "stdout",
          "text": [
            "250\n"
          ]
        }
      ]
    },
    {
      "cell_type": "code",
      "source": [
        "num = 100\n",
        "num -= 50\n",
        "print(num) # thiw will print 50, similar can be done for multiply divide"
      ],
      "metadata": {
        "colab": {
          "base_uri": "https://localhost:8080/"
        },
        "id": "Fy36VgFTzFbz",
        "outputId": "f78d2c53-e2a3-4a76-c83c-95f33904ace4"
      },
      "execution_count": 20,
      "outputs": [
        {
          "output_type": "stream",
          "name": "stdout",
          "text": [
            "50\n"
          ]
        }
      ]
    },
    {
      "cell_type": "code",
      "source": [
        "# Absolute\n",
        "print(abs(-3.14)) # Will remove sign from any negative numbers\n",
        "\n",
        "# Round\n",
        "print(round(3.14)) # Round to nearest integer i.e. 3\n",
        "print(round(3.79,1)) # Round to 1st digit of decimal i.e. 3.8"
      ],
      "metadata": {
        "colab": {
          "base_uri": "https://localhost:8080/"
        },
        "id": "AG3eO3Q6zJmZ",
        "outputId": "5d41ff80-0f0f-42b9-bb07-135ca4c4b957"
      },
      "execution_count": 21,
      "outputs": [
        {
          "output_type": "stream",
          "name": "stdout",
          "text": [
            "3.14\n",
            "3\n",
            "3.8\n"
          ]
        }
      ]
    },
    {
      "cell_type": "code",
      "source": [
        "# Comparison operator\n",
        "# Equal                     3 == 2      Single equal is assigment, double equal is equal to operator\n",
        "# Not equal                 3 != 2\n",
        "# Greater than              3 > 2\n",
        "# Less than                 3 < 2\n",
        "# Greater than or equal to  3 >= 2\n",
        "# Less than or equal to     3 <= 2\n",
        "\n",
        "print(3 == 2) # Will return false\n",
        "num1 = 3\n",
        "num2 = 5\n",
        "print(num1 == num2) # Will return false\n",
        "print(num >= num2) # Will return true"
      ],
      "metadata": {
        "colab": {
          "base_uri": "https://localhost:8080/"
        },
        "id": "i8QU3xrWz4WM",
        "outputId": "c97daa6b-9285-453c-c69e-44ff40399d38"
      },
      "execution_count": 22,
      "outputs": [
        {
          "output_type": "stream",
          "name": "stdout",
          "text": [
            "False\n",
            "False\n",
            "True\n"
          ]
        }
      ]
    },
    {
      "cell_type": "code",
      "source": [
        "# Conversion from string to integer, CASTING\n",
        "\n",
        "num_1 = '100'\n",
        "num_2 = '200'\n",
        "\n",
        "print(num_1 + num_2) # Will print 100200, this is string concatenation\n",
        "print(int(num_1) + int(num_2)) # Will print 300, because we had casted to integer"
      ],
      "metadata": {
        "colab": {
          "base_uri": "https://localhost:8080/"
        },
        "id": "gDHwR7br0FKJ",
        "outputId": "bac56644-44d5-47bc-9d14-a203e49af5d7"
      },
      "execution_count": 23,
      "outputs": [
        {
          "output_type": "stream",
          "name": "stdout",
          "text": [
            "100200\n",
            "300\n"
          ]
        }
      ]
    },
    {
      "cell_type": "code",
      "source": [
        "print(num_1 + num_2) #string concatenation"
      ],
      "metadata": {
        "colab": {
          "base_uri": "https://localhost:8080/"
        },
        "id": "lYGIdEEj0cwU",
        "outputId": "fa18332a-5427-46d4-95c5-3d7937dfdc90"
      },
      "execution_count": 24,
      "outputs": [
        {
          "output_type": "stream",
          "name": "stdout",
          "text": [
            "100200\n"
          ]
        }
      ]
    },
    {
      "cell_type": "code",
      "source": [
        "print(int(num_1) + int(num_2)) # will print 100 + 200, since we type-casted it to integer"
      ],
      "metadata": {
        "colab": {
          "base_uri": "https://localhost:8080/"
        },
        "id": "FCGxdKmT0lXo",
        "outputId": "eddd26fc-df70-4264-8479-7a6c9b92cc56"
      },
      "execution_count": 25,
      "outputs": [
        {
          "output_type": "stream",
          "name": "stdout",
          "text": [
            "300\n"
          ]
        }
      ]
    },
    {
      "cell_type": "markdown",
      "source": [
        "**LISTS/ARRAYS, TUPLES, SETS**"
      ],
      "metadata": {
        "id": "bkCtX15m01E-"
      }
    },
    {
      "cell_type": "code",
      "source": [
        "courses = ['Math', 'Science', 'Physics', 'Computers']\n",
        "\n",
        "# Print list\n",
        "print(courses)\n",
        "print(len(courses)) # Prints length of list\n",
        "print(courses[0]) # Prints the first object in the array i.e. Math\n",
        "print(courses[3]) # Prints Computer\n",
        "print(courses[0:2]) # Prints values at indices for 0, 1 (starts from 0 and ends one index before 2)\n",
        "\n",
        "print(courses[-1]) # Last item of the list, or we can courses[len(courses)-1]\n",
        "print(courses[:2]) # Will assume start is at 0\n",
        "print(courses[2:]) # Will assume ending index is last"
      ],
      "metadata": {
        "colab": {
          "base_uri": "https://localhost:8080/"
        },
        "id": "6vfombjS06UU",
        "outputId": "f5bf158a-f34c-42d1-f349-78dff785164f"
      },
      "execution_count": 26,
      "outputs": [
        {
          "output_type": "stream",
          "name": "stdout",
          "text": [
            "['Math', 'Science', 'Physics', 'Computers']\n",
            "4\n",
            "Math\n",
            "Computers\n",
            "['Math', 'Science']\n",
            "Computers\n",
            "['Math', 'Science']\n",
            "['Physics', 'Computers']\n"
          ]
        }
      ]
    },
    {
      "cell_type": "code",
      "source": [
        "# Modify list\n",
        "\n",
        "courses.append('Bio') # Will add bio at the end of the ilst. ['Math', 'Science', 'Physics', 'Computers', 'Bio']\n",
        "courses.insert(1, 'English') # Inserts English at the 1st index. ['Math', 'English', 'Science', 'Physics', 'Computers', 'Bio']\n",
        "print(courses)\n",
        "\n",
        "courses_2 = [\"Hindi\", \"Sanskrit\"]\n",
        "courses.insert(0, courses_2) # Adds the entire array as an element : [['Hindi', 'Sanskrit'], 'Math', 'English', 'Science', 'Physics', 'Computers', 'Bio']\n",
        "print(courses) # Adds the entire array [['Hindi', 'Sanskrit'], 'Math', 'English', 'Science', 'Physics', 'Computers', 'Bio']\n",
        "courses.extend(courses_2) # Used to add a list to the list end, ['Math', 'English', 'Science', 'Physics', 'Computers', 'Bio', 'Hindi', 'Sanskrit']\n",
        "print(courses)\n",
        "\n",
        "courses.remove('Math') # Will remove once instances of Math\n",
        "print(\"After remove\", courses)\n",
        "\n",
        "arr = [1, 2, 3, 4]\n",
        "arr.pop() # Remove last value from list, this returns the value it removed\n",
        "\n",
        "arr_2 = [10, 20, 30]\n",
        "num = arr_2.pop()\n",
        "print(num) # Prints 30 which is the last element in the list"
      ],
      "metadata": {
        "colab": {
          "base_uri": "https://localhost:8080/"
        },
        "id": "VqLJgbLz11jK",
        "outputId": "43bf275e-6564-4ba7-cd17-a000a6b09091"
      },
      "execution_count": 27,
      "outputs": [
        {
          "output_type": "stream",
          "name": "stdout",
          "text": [
            "['Math', 'English', 'Science', 'Physics', 'Computers', 'Bio']\n",
            "[['Hindi', 'Sanskrit'], 'Math', 'English', 'Science', 'Physics', 'Computers', 'Bio']\n",
            "[['Hindi', 'Sanskrit'], 'Math', 'English', 'Science', 'Physics', 'Computers', 'Bio', 'Hindi', 'Sanskrit']\n",
            "After remove [['Hindi', 'Sanskrit'], 'English', 'Science', 'Physics', 'Computers', 'Bio', 'Hindi', 'Sanskrit']\n",
            "30\n"
          ]
        }
      ]
    },
    {
      "cell_type": "code",
      "source": [
        "# Sort\n",
        "\n",
        "arr = [10, 20, 1, -10, 2000, -10000, 0, 5]\n",
        "arr.sort() # Used to sort the array\n",
        "\n",
        "print(arr) # [-10000, -10, 0, 1, 5, 10, 20, 2000]\n",
        "\n",
        "arr_2 = [\"aaa\", \"zzz\", \"ccc\", \"def\", \"hjk\"]\n",
        "arr_2.sort()\n",
        "print(arr_2) # ['aaa', 'ccc', 'def', 'hjk', 'zzz']\n",
        "\n",
        "# Sort in descending order\n",
        "arr.sort(reverse=True) # [2000, 20, 10, 5, 1, 0, -10, -10000]\n",
        "print(arr)\n",
        "\n",
        "# Reverse\n",
        "la = [10, 20, 10000, 0, 500]\n",
        "la.reverse()\n",
        "print(la)\n",
        "\n",
        "# Descending sort can also be done by .sort() and then .reverse() on the array;\n",
        "\n",
        "# Min / Max / Sum of list: Works on both integers and strings (sum is not for strings)\n",
        "print(min(arr)) # -10000\n",
        "print(max(arr_2)) # zzz\n",
        "\n",
        "arr_3 = [1, 2, 3]\n",
        "print(sum(arr_3)) # 6\n",
        "\n",
        "# Find a certain value in the list\n",
        "arr_4 = [1, 20, 1, 500, 600, 10000, -123]\n",
        "print(arr_4.index(500)) # 3\n",
        "\n",
        "# COMMENTING THIS OUT SINCE THIS WILL THROW AN ERROR\n",
        "# print(arr_4.index(100000000)) # We get an error that value is not in list\n",
        "\n",
        "\n",
        "# Check if value is in list\n",
        "print(4 in arr_4) # Returns False since 4 is not in the list"
      ],
      "metadata": {
        "colab": {
          "base_uri": "https://localhost:8080/"
        },
        "id": "LxcQSv2D3xGz",
        "outputId": "64b5e7d4-f5c7-4686-9063-bca2d6135c78"
      },
      "execution_count": 28,
      "outputs": [
        {
          "output_type": "stream",
          "name": "stdout",
          "text": [
            "[-10000, -10, 0, 1, 5, 10, 20, 2000]\n",
            "['aaa', 'ccc', 'def', 'hjk', 'zzz']\n",
            "[2000, 20, 10, 5, 1, 0, -10, -10000]\n",
            "[500, 0, 10000, 20, 10]\n",
            "-10000\n",
            "zzz\n",
            "6\n",
            "3\n",
            "False\n"
          ]
        }
      ]
    },
    {
      "cell_type": "code",
      "source": [
        "# Looping on array elements\n",
        "\n",
        "arr = [1, 10, 2, 500]\n",
        "\n",
        "for x in arr:\n",
        "  print(x)\n",
        "\n",
        "courses = ['English', 'Math', 'Science']\n",
        "courses_str = ', '.join(courses) # Convert the array into a string, where the values are separated by ,. THIS WORKS FOR STRING LIST ONLY\n",
        "print(courses_str) # English, Math, Science\n",
        "\n",
        "# Splitting a string into array\n",
        "new_list = courses_str.split(', ')\n",
        "print(new_list) # We will get the original list back"
      ],
      "metadata": {
        "colab": {
          "base_uri": "https://localhost:8080/"
        },
        "id": "Lj3PSZuV31uS",
        "outputId": "95e09e7e-0055-43bc-dd42-b6f540c0da33"
      },
      "execution_count": 29,
      "outputs": [
        {
          "output_type": "stream",
          "name": "stdout",
          "text": [
            "1\n",
            "10\n",
            "2\n",
            "500\n",
            "English, Math, Science\n",
            "['English', 'Math', 'Science']\n"
          ]
        }
      ]
    },
    {
      "cell_type": "code",
      "source": [
        "# Tuples are similar to lists just that we can't modify a tuple i.e. they are immutable\n",
        "\n",
        "arr = (10, 200, 1000) # We use paranthesis () instead of [] for creating tuple\n",
        "print(arr)\n",
        "\n",
        "# arr.append(40) # this is not allowed COMMENTING THIS OUT SINCE THIS IS NOT ALLOWED\n",
        "\n",
        "# Apart from mutation all other operations are same as that of list: i.e. finding max, min, sum, printing elements in array.\n",
        "# Sort, Reverse are not supported.\n",
        "# We use tuple when we do not need to support mutations once the array is built."
      ],
      "metadata": {
        "colab": {
          "base_uri": "https://localhost:8080/"
        },
        "id": "Yz0s22Kg35Hm",
        "outputId": "a9f6d3a0-8944-430c-c03f-b60844a4693b"
      },
      "execution_count": 30,
      "outputs": [
        {
          "output_type": "stream",
          "name": "stdout",
          "text": [
            "(10, 200, 1000)\n"
          ]
        }
      ]
    },
    {
      "cell_type": "code",
      "source": [
        "# Sets: They are similar to list but they do not contain duplicate elements, this allows mutations.\n",
        "# We use a set for searching or getting rid of duplicates.\n",
        "\n",
        "courses = {\"English\", \"English\", \"English\", \"Math\"}\n",
        "print(courses) # Prints {'Math', 'English'} i.e. English only appears once irrespestive of how many times we insert it\n",
        "# The order of insertion is also not maintained. See the output it is Math, English but we inserted English and then Math.\n",
        "\n",
        "arr = {30, 20, 10, 20, 20, 50}\n",
        "print(arr) # {10, 20, 50, 30}\n",
        "\n",
        "\n",
        "set_1 = {1, 2, 3, 4, 5}\n",
        "set_2 = {2, 3, 4, 7, 8}\n",
        "\n",
        "print(set_1.union(set_2)) # {1, 2, 3, 4, 5, 7, 8} does union of both the sets\n",
        "print(set_1.intersection(set_2)) # {2, 3, 4}\n",
        "print(set_1.difference(set_2)) # Prints those elemnts which are in set 1 but not in set 2 i.e. {1, 5}"
      ],
      "metadata": {
        "colab": {
          "base_uri": "https://localhost:8080/"
        },
        "id": "QfqtqfVR3991",
        "outputId": "dc7ad398-ecd0-4185-e113-a291158955e0"
      },
      "execution_count": 31,
      "outputs": [
        {
          "output_type": "stream",
          "name": "stdout",
          "text": [
            "{'English', 'Math'}\n",
            "{10, 20, 50, 30}\n",
            "{1, 2, 3, 4, 5, 7, 8}\n",
            "{2, 3, 4}\n",
            "{1, 5}\n"
          ]
        }
      ]
    },
    {
      "cell_type": "code",
      "source": [
        "# Create empty list\n",
        "arr = []\n",
        "arr = list()\n",
        "\n",
        "\n",
        "# Create empty tuple\n",
        "arr_2 = ()\n",
        "arr_2 = tuple()\n",
        "\n",
        "# Create empty set\n",
        "arr_e = {} # This is wrong, this will create a dictionary\n",
        "arr_3 = set()"
      ],
      "metadata": {
        "id": "TP68NLch4COg"
      },
      "execution_count": 32,
      "outputs": []
    },
    {
      "cell_type": "markdown",
      "source": [
        "**DICTIONARY**"
      ],
      "metadata": {
        "id": "9WnRIoT74FTw"
      }
    },
    {
      "cell_type": "code",
      "source": [
        "student = {} # Start a dictionary\n",
        "\n",
        "student = {'name': 'John', 'age': 25, 'courses': ['Math', 'Science', 'English']}\n",
        "print(student) # {'name': 'John', 'age': 25, 'courses': ['Math', 'Science', 'English']}\n",
        "\n",
        "print(student['name']) # Specify the value which is to be accessed, prints John\n",
        "print(student['courses']) # ['Math', 'Science', 'English']\n",
        "\n",
        "# key, value can be anything i.e. string, integer, float anything.\n",
        "\n",
        "dict_1 = {1: \"John\", 20: \"Naman\", 30: \"Haily\"}\n",
        "print(dict_1[30])\n",
        "\n",
        "# If the key is not present in the dictionary it will throw an error.\n",
        "# Therefore we use the get method.\n",
        "print(dict_1.get('Hello')) # Returns None i.e. the key doesn't exist.\n",
        "\n",
        "# We can specify the default value for keys that don't exist\n",
        "print(dict_1.get('Hello', 'Not Found')) # Prints Not Found.\n",
        "\n",
        "# Add new entries to our dictionary\n",
        "student['phone'] = '9898989898'\n",
        "print(student) # {'name': 'John', 'age': 25, 'courses': ['Math', 'Science', 'English'], 'phone': '9898989898'}\n",
        "\n",
        "# If we set it again then it will update the value corresponding to the key.\n",
        "student['phone'] = '123456789'\n",
        "print(student) # {'name': 'John', 'age': 25, 'courses': ['Math', 'Science', 'English'], 'phone': '123456789'}\n",
        "\n",
        "# Delete a key\n",
        "del student['name'] # deletes student key\n",
        "print(student) # {'age': 25, 'courses': ['Math', 'Science', 'English'], 'phone': '123456789'}\n",
        "\n",
        "print(len(student)) # returns length of map\n",
        "print(student.keys()) # returns list of all keys in the dictionary dict_keys(['age', 'courses', 'phone'])\n",
        "print(student.values()) # returns list of all values in the dictionary dict_values([25, ['Math', 'Science', 'English'], '123456789'])\n",
        "print(student.items()) # returns the key, value both dict_items([('age', 25), ('courses', ['Math', 'Science', 'English']), ('phone', '123456789')])\n",
        "\n",
        "# Looping through a map\n",
        "\n",
        "for key in student: # this will only print key\n",
        "  print(key)\n",
        "\n",
        "for key, value in student.items(): # this will print key and value both\n",
        "  print(key, value)"
      ],
      "metadata": {
        "colab": {
          "base_uri": "https://localhost:8080/"
        },
        "id": "UD1KgMxx4Hpf",
        "outputId": "40675467-47d4-4e79-db7f-7923e01bbd39"
      },
      "execution_count": 33,
      "outputs": [
        {
          "output_type": "stream",
          "name": "stdout",
          "text": [
            "{'name': 'John', 'age': 25, 'courses': ['Math', 'Science', 'English']}\n",
            "John\n",
            "['Math', 'Science', 'English']\n",
            "Haily\n",
            "None\n",
            "Not Found\n",
            "{'name': 'John', 'age': 25, 'courses': ['Math', 'Science', 'English'], 'phone': '9898989898'}\n",
            "{'name': 'John', 'age': 25, 'courses': ['Math', 'Science', 'English'], 'phone': '123456789'}\n",
            "{'age': 25, 'courses': ['Math', 'Science', 'English'], 'phone': '123456789'}\n",
            "3\n",
            "dict_keys(['age', 'courses', 'phone'])\n",
            "dict_values([25, ['Math', 'Science', 'English'], '123456789'])\n",
            "dict_items([('age', 25), ('courses', ['Math', 'Science', 'English']), ('phone', '123456789')])\n",
            "age\n",
            "courses\n",
            "phone\n",
            "age 25\n",
            "courses ['Math', 'Science', 'English']\n",
            "phone 123456789\n"
          ]
        }
      ]
    },
    {
      "cell_type": "markdown",
      "source": [
        "IF ELSE"
      ],
      "metadata": {
        "id": "nmwTxi5X6LF4"
      }
    },
    {
      "cell_type": "code",
      "source": [
        "language = 'Java'\n",
        "\n",
        "if language == 'Python':\n",
        "  print(\"Language is python\")\n",
        "elif language == 'Java':\n",
        "  print(\"Language is Java\")\n",
        "elif language == 'Javascript':\n",
        "  print(\"Language is Javascript\")\n",
        "else:\n",
        "  print(\"No match found\")"
      ],
      "metadata": {
        "colab": {
          "base_uri": "https://localhost:8080/"
        },
        "id": "HY1ouj_E6PNZ",
        "outputId": "866394b7-25c9-4601-bd4d-0ce131b82b8d"
      },
      "execution_count": 34,
      "outputs": [
        {
          "output_type": "stream",
          "name": "stdout",
          "text": [
            "Language is Java\n"
          ]
        }
      ]
    },
    {
      "cell_type": "markdown",
      "source": [
        "Conditionals In Python"
      ],
      "metadata": {
        "id": "n-vGdtt77d9F"
      }
    },
    {
      "cell_type": "code",
      "source": [
        "# Comparisons:\n",
        "# Equal:            ==\n",
        "# Not Equal:        !=\n",
        "# Greater Than:     >\n",
        "# Less Than:        <\n",
        "# Greater or Equal: >=\n",
        "# Less or Equal:    <=\n",
        "# Object Identity:  is\n",
        "\n",
        "#AND\n",
        "#OR\n",
        "#NOT\n",
        "\n",
        "user = 'Admin'\n",
        "logged_in = False\n",
        "\n",
        "if user == 'Admin' and logged_in: #both the conditions needs to be evaluated\n",
        "  print(\"Admin Page\")\n",
        "else:\n",
        "  print(\"Bad Credentials\")"
      ],
      "metadata": {
        "colab": {
          "base_uri": "https://localhost:8080/"
        },
        "id": "ULXMprIR7hbT",
        "outputId": "5929e845-c294-4637-8791-d5e3833be1f8"
      },
      "execution_count": 35,
      "outputs": [
        {
          "output_type": "stream",
          "name": "stdout",
          "text": [
            "Bad Credentials\n"
          ]
        }
      ]
    },
    {
      "cell_type": "code",
      "source": [
        "#OR Operator\n",
        "\n",
        "user = 'Admin'\n",
        "logged_in = False\n",
        "\n",
        "if user == 'Admin' or logged_in: # Any one of the conditions needs to be evaluated\n",
        "  print(\"Admin Page\") # this gets printed in the result tab\n",
        "else:\n",
        "  print(\"Bad Credentials\")"
      ],
      "metadata": {
        "colab": {
          "base_uri": "https://localhost:8080/"
        },
        "id": "ScNhMfK881v-",
        "outputId": "b34bdcf1-2287-459b-be57-c1c0e43c9d6e"
      },
      "execution_count": 36,
      "outputs": [
        {
          "output_type": "stream",
          "name": "stdout",
          "text": [
            "Admin Page\n"
          ]
        }
      ]
    },
    {
      "cell_type": "code",
      "source": [
        "#NOT Operator\n",
        "\n",
        "user = 'Admin'\n",
        "logged_in = False\n",
        "\n",
        "if not logged_in:\n",
        "  print(\"Please Log In\")\n",
        "else:\n",
        "  print(\"Welcome\")"
      ],
      "metadata": {
        "colab": {
          "base_uri": "https://localhost:8080/"
        },
        "id": "Y6EIsdsV9E6x",
        "outputId": "152bcde0-ae8d-4a6d-ae2b-2084d9512a86"
      },
      "execution_count": 37,
      "outputs": [
        {
          "output_type": "stream",
          "name": "stdout",
          "text": [
            "Please Log In\n"
          ]
        }
      ]
    },
    {
      "cell_type": "code",
      "source": [
        "a = [1,2,3]\n",
        "b = [1,2,3]\n",
        "\n",
        "print(a==b)"
      ],
      "metadata": {
        "colab": {
          "base_uri": "https://localhost:8080/"
        },
        "id": "nMJULevu-JOG",
        "outputId": "38bc27db-0a64-443e-9bd5-ca7b5a3e7291"
      },
      "execution_count": 38,
      "outputs": [
        {
          "output_type": "stream",
          "name": "stdout",
          "text": [
            "True\n"
          ]
        }
      ]
    },
    {
      "cell_type": "code",
      "source": [
        "a = [1,2,3]\n",
        "b = [1,2,3]\n",
        "\n",
        "print(id(a)) # prints the id of the object a\n",
        "print(id(b)) # prints the id of the object b\n",
        "print(a is b) # two different objects so false"
      ],
      "metadata": {
        "colab": {
          "base_uri": "https://localhost:8080/"
        },
        "id": "XUYYVphM-ZsN",
        "outputId": "6fd057b7-1143-4fe0-8c74-eb970d1539da"
      },
      "execution_count": 39,
      "outputs": [
        {
          "output_type": "stream",
          "name": "stdout",
          "text": [
            "136129714687360\n",
            "136129714607360\n",
            "False\n"
          ]
        }
      ]
    },
    {
      "cell_type": "code",
      "source": [
        "a = [1,2,3]\n",
        "b = a\n",
        "\n",
        "print(id(a)) # prints the id of the object a\n",
        "print(id(b)) # prints the id of the object b\n",
        "print(a is b) # this evaluates to true as the id of both the objects are same."
      ],
      "metadata": {
        "colab": {
          "base_uri": "https://localhost:8080/"
        },
        "id": "Kw7tiXWC_EfZ",
        "outputId": "a69862a3-91ed-4cfc-a61b-c7afe502adf4"
      },
      "execution_count": 40,
      "outputs": [
        {
          "output_type": "stream",
          "name": "stdout",
          "text": [
            "136129714480704\n",
            "136129714480704\n",
            "True\n"
          ]
        }
      ]
    },
    {
      "cell_type": "code",
      "source": [
        "a = [1,2,3]\n",
        "b = a\n",
        "\n",
        "print(id(a)) # prints the id of the object a\n",
        "print(id(b)) # prints the id of the object b\n",
        "print(a == b)\n",
        "print(id(a) == id(b))"
      ],
      "metadata": {
        "colab": {
          "base_uri": "https://localhost:8080/"
        },
        "id": "NhrMvaZe_R4V",
        "outputId": "726806f4-7080-4403-9f15-df0c4117a81e"
      },
      "execution_count": 41,
      "outputs": [
        {
          "output_type": "stream",
          "name": "stdout",
          "text": [
            "136129714502080\n",
            "136129714502080\n",
            "True\n",
            "True\n"
          ]
        }
      ]
    },
    {
      "cell_type": "code",
      "source": [
        "# False Values:\n",
        "    # False\n",
        "    # None\n",
        "    # Zero of any numeric type\n",
        "    # Any empty sequence. For example, '', (), [].\n",
        "    # Any empty mapping. For example, {}.\n",
        "\n",
        "# False\n",
        "condition = False\n",
        "\n",
        "if condition:\n",
        "  print(\"Evaluated to true\")\n",
        "else:\n",
        "  print(\"Evaluated to false\") # returns this as designated output, false"
      ],
      "metadata": {
        "colab": {
          "base_uri": "https://localhost:8080/"
        },
        "id": "Jn_GVijr_yq9",
        "outputId": "b9d2c55b-05c6-489b-febf-b0c8502bcfeb"
      },
      "execution_count": 42,
      "outputs": [
        {
          "output_type": "stream",
          "name": "stdout",
          "text": [
            "Evaluated to false\n"
          ]
        }
      ]
    },
    {
      "cell_type": "code",
      "source": [
        "# None\n",
        "\n",
        "condition = None\n",
        "\n",
        "if condition:\n",
        "  print(\"Evaluated to true\")\n",
        "else:\n",
        "  print(\"Evaluated to false\") # None evaluates to false"
      ],
      "metadata": {
        "colab": {
          "base_uri": "https://localhost:8080/"
        },
        "id": "SsQcwgXZAww6",
        "outputId": "dc037d8f-f905-4c54-e4d1-44b4fd3fd1c9"
      },
      "execution_count": 43,
      "outputs": [
        {
          "output_type": "stream",
          "name": "stdout",
          "text": [
            "Evaluated to false\n"
          ]
        }
      ]
    },
    {
      "cell_type": "code",
      "source": [
        "# Zero of any numeric type\n",
        "\n",
        "condition = 0\n",
        "\n",
        "if condition:\n",
        "  print(\"Evaluated to true\")\n",
        "else:\n",
        "  print(\"Evaluated to false\") # 0 evaluates to false, unlike any other numeric data"
      ],
      "metadata": {
        "colab": {
          "base_uri": "https://localhost:8080/"
        },
        "id": "Ps75tsy9BB7A",
        "outputId": "dada478f-6963-4332-d30c-4d3495ab21e6"
      },
      "execution_count": 44,
      "outputs": [
        {
          "output_type": "stream",
          "name": "stdout",
          "text": [
            "Evaluated to false\n"
          ]
        }
      ]
    },
    {
      "cell_type": "code",
      "source": [
        "# Any empty sequence. For example, '', (), [].\n",
        "\n",
        "condition = ''\n",
        "\n",
        "if condition:\n",
        "  print(\"Evaluated to true\")\n",
        "else:\n",
        "  print(\"Evaluated to false\") # '' evaluates to false"
      ],
      "metadata": {
        "colab": {
          "base_uri": "https://localhost:8080/"
        },
        "id": "2wDKBvA4BTcE",
        "outputId": "1bc65341-e7f3-44b6-c4ac-cb7d16c0ccd7"
      },
      "execution_count": 45,
      "outputs": [
        {
          "output_type": "stream",
          "name": "stdout",
          "text": [
            "Evaluated to false\n"
          ]
        }
      ]
    },
    {
      "cell_type": "code",
      "source": [
        "# Any empty sequence. For example, '', (), [].\n",
        "\n",
        "condition = ()\n",
        "\n",
        "if condition:\n",
        "  print(\"Evaluated to true\")\n",
        "else:\n",
        "  print(\"Evaluated to false\") # () evaluates to false"
      ],
      "metadata": {
        "colab": {
          "base_uri": "https://localhost:8080/"
        },
        "id": "hh4cEju9Bs9v",
        "outputId": "7612de34-b2ca-44d8-ef60-43404287f9df"
      },
      "execution_count": 46,
      "outputs": [
        {
          "output_type": "stream",
          "name": "stdout",
          "text": [
            "Evaluated to false\n"
          ]
        }
      ]
    },
    {
      "cell_type": "code",
      "source": [
        "# Any empty sequence. For example, '', (), [].\n",
        "\n",
        "condition = []\n",
        "\n",
        "if condition:\n",
        "  print(\"Evaluated to true\")\n",
        "else:\n",
        "  print(\"Evaluated to false\") # [] evaluates to false"
      ],
      "metadata": {
        "colab": {
          "base_uri": "https://localhost:8080/"
        },
        "id": "8L-wlNEpBx1p",
        "outputId": "94e9f3f3-d5a3-4726-fb75-89c587f9c5e1"
      },
      "execution_count": 47,
      "outputs": [
        {
          "output_type": "stream",
          "name": "stdout",
          "text": [
            "Evaluated to false\n"
          ]
        }
      ]
    },
    {
      "cell_type": "code",
      "source": [
        "# Any empty mapping. For example, {}.\n",
        "\n",
        "condition = {}\n",
        "\n",
        "if condition:\n",
        "  print(\"Evaluated to true\")\n",
        "else:\n",
        "  print(\"Evaluated to false\") # {} evaluates to false"
      ],
      "metadata": {
        "colab": {
          "base_uri": "https://localhost:8080/"
        },
        "id": "kbSI-GtBB1YS",
        "outputId": "a9f488df-a868-47da-b17c-1e0c05133dc2"
      },
      "execution_count": 48,
      "outputs": [
        {
          "output_type": "stream",
          "name": "stdout",
          "text": [
            "Evaluated to false\n"
          ]
        }
      ]
    }
  ]
}