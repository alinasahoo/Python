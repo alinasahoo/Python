{
  "nbformat": 4,
  "nbformat_minor": 0,
  "metadata": {
    "colab": {
      "provenance": [],
      "authorship_tag": "ABX9TyOgr5Q47ii1XGyjeTj4cb29",
      "include_colab_link": true
    },
    "kernelspec": {
      "name": "python3",
      "display_name": "Python 3"
    },
    "language_info": {
      "name": "python"
    }
  },
  "cells": [
    {
      "cell_type": "markdown",
      "metadata": {
        "id": "view-in-github",
        "colab_type": "text"
      },
      "source": [
        "<a href=\"https://colab.research.google.com/github/alinasahoo/Python/blob/main/Pandas_Dataframe.ipynb\" target=\"_parent\"><img src=\"https://colab.research.google.com/assets/colab-badge.svg\" alt=\"Open In Colab\"/></a>"
      ]
    },
    {
      "cell_type": "markdown",
      "source": [
        "DataFrame"
      ],
      "metadata": {
        "id": "Ea9DW6aWDIRS"
      }
    },
    {
      "cell_type": "code",
      "source": [
        "import pandas as pd\n",
        "\n",
        "l = [1,2,3,4,5,6]\n",
        "\n",
        "var = pd.DataFrame(l)\n",
        "\n",
        "print(type(var))"
      ],
      "metadata": {
        "colab": {
          "base_uri": "https://localhost:8080/"
        },
        "id": "1vJ9WXJzDKCT",
        "outputId": "2f8658fd-2cfc-45f4-fb77-3dc12c9c8b42"
      },
      "execution_count": 1,
      "outputs": [
        {
          "output_type": "stream",
          "name": "stdout",
          "text": [
            "<class 'pandas.core.frame.DataFrame'>\n"
          ]
        }
      ]
    },
    {
      "cell_type": "code",
      "source": [
        "d = {\"a\":[1,2,3,4,5], \"s\":[1,2,3,4,5]} # Arrays must be of the same length\n",
        "\n",
        "var1 = pd.DataFrame(d)\n",
        "\n",
        "print(type(var1))\n",
        "print(var1)"
      ],
      "metadata": {
        "colab": {
          "base_uri": "https://localhost:8080/"
        },
        "id": "dUB-7XHlDa3k",
        "outputId": "d14b9a1a-c31c-4512-f927-2ed42d62b78f"
      },
      "execution_count": 2,
      "outputs": [
        {
          "output_type": "stream",
          "name": "stdout",
          "text": [
            "<class 'pandas.core.frame.DataFrame'>\n",
            "   a  s\n",
            "0  1  1\n",
            "1  2  2\n",
            "2  3  3\n",
            "3  4  4\n",
            "4  5  5\n"
          ]
        }
      ]
    },
    {
      "cell_type": "code",
      "source": [
        "d = {\"a\":[1,2,3,4,5], \"s\":[1,2,3,4,5], \"d\":[1,2,3,4,5], 1:[1,2,3,4,5]} # Arrays must be of the same length\n",
        "\n",
        "var1 = pd.DataFrame(d, columns=[\"a\",1])\n",
        "\n",
        "print(type(var1))\n",
        "print(var1)"
      ],
      "metadata": {
        "colab": {
          "base_uri": "https://localhost:8080/"
        },
        "id": "Gd0nGD4UEOnO",
        "outputId": "57639a1a-7e5e-4728-b789-48ba7a47d608"
      },
      "execution_count": 3,
      "outputs": [
        {
          "output_type": "stream",
          "name": "stdout",
          "text": [
            "<class 'pandas.core.frame.DataFrame'>\n",
            "   a  1\n",
            "0  1  1\n",
            "1  2  2\n",
            "2  3  3\n",
            "3  4  4\n",
            "4  5  5\n"
          ]
        }
      ]
    },
    {
      "cell_type": "code",
      "source": [
        "d = {\"a\":[1,2,3,4,5], \"s\":[1,2,3,4,5], \"d\":[1,2,3,4,5], 1:[1,2,3,4,5]} # Arrays must be of the same length\n",
        "\n",
        "var1 = pd.DataFrame(d, columns=[\"a\",1], index=[\"a\",\"s\",\"d\",\"f\",\"g\"])\n",
        "\n",
        "print(type(var1))\n",
        "print(var1)"
      ],
      "metadata": {
        "colab": {
          "base_uri": "https://localhost:8080/"
        },
        "id": "M0Qd74DlFGK2",
        "outputId": "18c34a32-6da2-4258-8898-4a494460a964"
      },
      "execution_count": 4,
      "outputs": [
        {
          "output_type": "stream",
          "name": "stdout",
          "text": [
            "<class 'pandas.core.frame.DataFrame'>\n",
            "   a  1\n",
            "a  1  1\n",
            "s  2  2\n",
            "d  3  3\n",
            "f  4  4\n",
            "g  5  5\n"
          ]
        }
      ]
    },
    {
      "cell_type": "code",
      "source": [
        "d = {\"a\":[1,2,3,4,5], \"s\":[1,2,3,4,5], \"d\":[1,2,3,4,5], 1:[1,2,3,4,5]} # Arrays must be of the same length\n",
        "\n",
        "var1 = pd.DataFrame(d)\n",
        "\n",
        "print(type(var1))\n",
        "print(var1)\n",
        "print(var1[\"a\"][3])"
      ],
      "metadata": {
        "colab": {
          "base_uri": "https://localhost:8080/"
        },
        "id": "1MmzP-pMFWQk",
        "outputId": "81b9b378-251b-4013-92b6-e5f47f57d0fa"
      },
      "execution_count": 5,
      "outputs": [
        {
          "output_type": "stream",
          "name": "stdout",
          "text": [
            "<class 'pandas.core.frame.DataFrame'>\n",
            "   a  s  d  1\n",
            "0  1  1  1  1\n",
            "1  2  2  2  2\n",
            "2  3  3  3  3\n",
            "3  4  4  4  4\n",
            "4  5  5  5  5\n",
            "4\n"
          ]
        }
      ]
    },
    {
      "cell_type": "code",
      "source": [
        "list_1 = [[1,2,3,4,5],[11,12,13,14,15]]\n",
        "\n",
        "var2 = pd.DataFrame(list_1)\n",
        "\n",
        "print(type(var2))\n",
        "print(var2)"
      ],
      "metadata": {
        "colab": {
          "base_uri": "https://localhost:8080/"
        },
        "id": "UeL1VpDMFmd7",
        "outputId": "77e464a4-5604-4065-807b-de822b2c8e4a"
      },
      "execution_count": 6,
      "outputs": [
        {
          "output_type": "stream",
          "name": "stdout",
          "text": [
            "<class 'pandas.core.frame.DataFrame'>\n",
            "    0   1   2   3   4\n",
            "0   1   2   3   4   5\n",
            "1  11  12  13  14  15\n"
          ]
        }
      ]
    },
    {
      "cell_type": "code",
      "source": [
        "# Creating DataFrame using the series\n",
        "\n",
        "sr = {\"s\":pd.Series([1,2,3,4]), \"r\":pd.Series([1,2,3,4])}\n",
        "\n",
        "var3 = pd.DataFrame(sr)\n",
        "\n",
        "print(type(var3))\n",
        "print(var3)"
      ],
      "metadata": {
        "colab": {
          "base_uri": "https://localhost:8080/"
        },
        "id": "XxlCYaEYF7um",
        "outputId": "6d1b6907-6c79-4da2-e78e-7dc7fb2d5304"
      },
      "execution_count": 7,
      "outputs": [
        {
          "output_type": "stream",
          "name": "stdout",
          "text": [
            "<class 'pandas.core.frame.DataFrame'>\n",
            "   s  r\n",
            "0  1  1\n",
            "1  2  2\n",
            "2  3  3\n",
            "3  4  4\n"
          ]
        }
      ]
    }
  ]
}