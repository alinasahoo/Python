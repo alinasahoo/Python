{
  "nbformat": 4,
  "nbformat_minor": 0,
  "metadata": {
    "colab": {
      "provenance": [],
      "authorship_tag": "ABX9TyP/TpOwLuoGbtoYODPhb6OZ",
      "include_colab_link": true
    },
    "kernelspec": {
      "name": "python3",
      "display_name": "Python 3"
    },
    "language_info": {
      "name": "python"
    }
  },
  "cells": [
    {
      "cell_type": "markdown",
      "metadata": {
        "id": "view-in-github",
        "colab_type": "text"
      },
      "source": [
        "<a href=\"https://colab.research.google.com/github/alinasahoo/Python/blob/main/Python_Loops.ipynb\" target=\"_parent\"><img src=\"https://colab.research.google.com/assets/colab-badge.svg\" alt=\"Open In Colab\"/></a>"
      ]
    },
    {
      "cell_type": "markdown",
      "source": [
        "Loops and Iterations"
      ],
      "metadata": {
        "id": "FYsJhOFYF_nH"
      }
    },
    {
      "cell_type": "markdown",
      "source": [
        "**For Loop**"
      ],
      "metadata": {
        "id": "UHDuhgS7IucQ"
      }
    },
    {
      "cell_type": "code",
      "source": [
        "nums = [1,2,3,4,5]\n",
        "for num in nums:\n",
        "  print(num)"
      ],
      "metadata": {
        "colab": {
          "base_uri": "https://localhost:8080/"
        },
        "id": "EMq1u1W_GG6x",
        "outputId": "e4666b26-afb3-4abf-f8ce-efc4fd889e2d"
      },
      "execution_count": 1,
      "outputs": [
        {
          "output_type": "stream",
          "name": "stdout",
          "text": [
            "1\n",
            "2\n",
            "3\n",
            "4\n",
            "5\n"
          ]
        }
      ]
    },
    {
      "cell_type": "code",
      "source": [
        "nums = [1,2,3,4,5]\n",
        "for num in nums:\n",
        "  if num == 3:\n",
        "    print(\"Found\")\n",
        "    break #breaks out of the loop\n",
        "  print(num) #this statement does not gets executed"
      ],
      "metadata": {
        "colab": {
          "base_uri": "https://localhost:8080/"
        },
        "id": "xEiHEoBhGh74",
        "outputId": "7def2578-ad43-44ee-ce1d-eaeb97943388"
      },
      "execution_count": 2,
      "outputs": [
        {
          "output_type": "stream",
          "name": "stdout",
          "text": [
            "1\n",
            "2\n",
            "Found\n"
          ]
        }
      ]
    },
    {
      "cell_type": "code",
      "source": [
        "nums = [1,2,3,4,5]\n",
        "for num in nums:\n",
        "  if num == 3: #condition satisfied\n",
        "    print(\"Found\") #then print the text within double quotes\n",
        "    continue #continues with the usual loop\n",
        "  print(num) #prints the remaining values too"
      ],
      "metadata": {
        "colab": {
          "base_uri": "https://localhost:8080/"
        },
        "id": "MbI-1DooG-0Z",
        "outputId": "76ebdfeb-aa42-4345-8d48-f2c89983d080"
      },
      "execution_count": 3,
      "outputs": [
        {
          "output_type": "stream",
          "name": "stdout",
          "text": [
            "1\n",
            "2\n",
            "Found\n",
            "4\n",
            "5\n"
          ]
        }
      ]
    },
    {
      "cell_type": "code",
      "source": [
        "# Loop within loop (Nested Loop)\n",
        "\n",
        "nums = [1,2,3,4,5]\n",
        "for num in nums:\n",
        "  for letter in \"abc\":\n",
        "    print(num, letter)"
      ],
      "metadata": {
        "colab": {
          "base_uri": "https://localhost:8080/"
        },
        "id": "kbqVbLeuHTty",
        "outputId": "a528dcf8-07a7-4a90-ba70-24b8c450263c"
      },
      "execution_count": 4,
      "outputs": [
        {
          "output_type": "stream",
          "name": "stdout",
          "text": [
            "1 a\n",
            "1 b\n",
            "1 c\n",
            "2 a\n",
            "2 b\n",
            "2 c\n",
            "3 a\n",
            "3 b\n",
            "3 c\n",
            "4 a\n",
            "4 b\n",
            "4 c\n",
            "5 a\n",
            "5 b\n",
            "5 c\n"
          ]
        }
      ]
    },
    {
      "cell_type": "code",
      "source": [
        "for i in range(10): # i loops through the range - 10\n",
        "  print(i) #prints the values from 0-9 (10 values)"
      ],
      "metadata": {
        "colab": {
          "base_uri": "https://localhost:8080/"
        },
        "id": "aAYDu2HSIAEQ",
        "outputId": "e0cf168b-e4b7-4318-8d50-b185d0fbe43c"
      },
      "execution_count": 5,
      "outputs": [
        {
          "output_type": "stream",
          "name": "stdout",
          "text": [
            "0\n",
            "1\n",
            "2\n",
            "3\n",
            "4\n",
            "5\n",
            "6\n",
            "7\n",
            "8\n",
            "9\n"
          ]
        }
      ]
    },
    {
      "cell_type": "code",
      "source": [
        "for i in range(1, 11): # i starts from 1 and loops till 11\n",
        "  print(i) # prints the values from 1-10"
      ],
      "metadata": {
        "colab": {
          "base_uri": "https://localhost:8080/"
        },
        "id": "xmQ8t5X0IVxU",
        "outputId": "ffca3d49-8ffa-4607-f2c1-4588b56cc07c"
      },
      "execution_count": 6,
      "outputs": [
        {
          "output_type": "stream",
          "name": "stdout",
          "text": [
            "1\n",
            "2\n",
            "3\n",
            "4\n",
            "5\n",
            "6\n",
            "7\n",
            "8\n",
            "9\n",
            "10\n"
          ]
        }
      ]
    },
    {
      "cell_type": "markdown",
      "source": [
        "**While Loop**"
      ],
      "metadata": {
        "id": "a3QT4lD3Irm_"
      }
    },
    {
      "cell_type": "code",
      "source": [
        "x = 0\n",
        "\n",
        "while x < 10: #checks if x is less than 10\n",
        "  print(x) # prints the value of x\n",
        "  x += 1 # to break the flow of the loop, it increments by 1 each time, until x<9\n",
        "\n",
        "# Note : If we don't increase the value, the loop will go on forever. To break the flow, we incremented by 1."
      ],
      "metadata": {
        "colab": {
          "base_uri": "https://localhost:8080/"
        },
        "id": "3gTA1UMCItIA",
        "outputId": "540e95e6-4e09-4ec7-8221-a310e3f7342f"
      },
      "execution_count": 7,
      "outputs": [
        {
          "output_type": "stream",
          "name": "stdout",
          "text": [
            "0\n",
            "1\n",
            "2\n",
            "3\n",
            "4\n",
            "5\n",
            "6\n",
            "7\n",
            "8\n",
            "9\n"
          ]
        }
      ]
    },
    {
      "cell_type": "code",
      "source": [
        "x = 0\n",
        "\n",
        "while x < 10: #checks if x is less than 10\n",
        "  if x == 5: # checks for the condition\n",
        "    break # breaks out of the loop if the above condition is satisfied\n",
        "  print(x) # this does not get executed post the break statement\n",
        "  x += 1 # increments the value by 1 until it breaks out of the loop"
      ],
      "metadata": {
        "colab": {
          "base_uri": "https://localhost:8080/"
        },
        "id": "2aTGKOm6JyWa",
        "outputId": "f21db2b4-f031-491a-aae4-1a0ee9779902"
      },
      "execution_count": 8,
      "outputs": [
        {
          "output_type": "stream",
          "name": "stdout",
          "text": [
            "0\n",
            "1\n",
            "2\n",
            "3\n",
            "4\n"
          ]
        }
      ]
    },
    {
      "cell_type": "code",
      "source": [
        "x = 0\n",
        "\n",
        "while True: # checks for the infinite loop\n",
        "  if x == 5: # here, we have the condition specified\n",
        "    break # breaks the flow of the execution\n",
        "  print(x) # prints until the above condition is met\n",
        "  x += 1 # increments by 1 until the above condition is met"
      ],
      "metadata": {
        "colab": {
          "base_uri": "https://localhost:8080/"
        },
        "id": "IW3eJix0KenP",
        "outputId": "3a542957-18f8-49d8-80ba-c6478f0f4257"
      },
      "execution_count": 9,
      "outputs": [
        {
          "output_type": "stream",
          "name": "stdout",
          "text": [
            "0\n",
            "1\n",
            "2\n",
            "3\n",
            "4\n"
          ]
        }
      ]
    },
    {
      "cell_type": "code",
      "source": [
        "x = 0\n",
        "\n",
        "# while True: # checks for the infinite loop\n",
        "#   print(x) # prints until the above condition is met\n",
        "#   x += 1"
      ],
      "metadata": {
        "id": "GqFMq5xSK8Ti"
      },
      "execution_count": 10,
      "outputs": []
    }
  ]
}