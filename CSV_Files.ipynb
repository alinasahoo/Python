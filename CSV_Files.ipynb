{
  "nbformat": 4,
  "nbformat_minor": 0,
  "metadata": {
    "colab": {
      "provenance": [],
      "include_colab_link": true
    },
    "kernelspec": {
      "name": "python3",
      "display_name": "Python 3"
    },
    "language_info": {
      "name": "python"
    }
  },
  "cells": [
    {
      "cell_type": "markdown",
      "metadata": {
        "id": "view-in-github",
        "colab_type": "text"
      },
      "source": [
        "<a href=\"https://colab.research.google.com/github/alinasahoo/Python/blob/main/CSV_Files.ipynb\" target=\"_parent\"><img src=\"https://colab.research.google.com/assets/colab-badge.svg\" alt=\"Open In Colab\"/></a>"
      ]
    },
    {
      "cell_type": "markdown",
      "source": [
        "CSV Files"
      ],
      "metadata": {
        "id": "D6dPqFjcSnaQ"
      }
    },
    {
      "cell_type": "code",
      "execution_count": 1,
      "metadata": {
        "colab": {
          "base_uri": "https://localhost:8080/"
        },
        "id": "PEtq27yLSUTH",
        "outputId": "2a14e773-b8b8-40e8-f270-a9cf044925f2"
      },
      "outputs": [
        {
          "output_type": "stream",
          "name": "stdout",
          "text": [
            "   a  s  d\n",
            "0  1  1  1\n",
            "1  2  2  2\n",
            "2  3  3  3\n",
            "3  4  4  4\n",
            "4  5  5  5\n",
            "5  6  6  6\n"
          ]
        }
      ],
      "source": [
        "import pandas as pd\n",
        "\n",
        "dis ={\"a\":[1,2,3,4,5,6], \"s\":[1,2,3,4,5,6], \"d\":[1,2,3,4,5,6]}\n",
        "\n",
        "d=pd.DataFrame(dis)\n",
        "\n",
        "print(d)\n",
        "\n",
        "d.to_csv(\"test_new.csv\", index=False, header=[1,2,3]) # creates a csv file, with no index and header named 1,2,3"
      ]
    },
    {
      "cell_type": "markdown",
      "source": [
        "Reading CSV Files"
      ],
      "metadata": {
        "id": "rw4yx3GaUHN5"
      }
    },
    {
      "cell_type": "code",
      "source": [
        "import pandas as pd\n",
        "\n",
        "d = pd.read_csv(\"/content/test_new.csv\") # Add the file path here\n",
        "\n",
        "print(d)"
      ],
      "metadata": {
        "colab": {
          "base_uri": "https://localhost:8080/"
        },
        "id": "7lmMzWBoUKEr",
        "outputId": "5ed60b4e-03aa-49df-bc2c-3d16e36bd7b9"
      },
      "execution_count": 2,
      "outputs": [
        {
          "output_type": "stream",
          "name": "stdout",
          "text": [
            "   1  2  3\n",
            "0  1  1  1\n",
            "1  2  2  2\n",
            "2  3  3  3\n",
            "3  4  4  4\n",
            "4  5  5  5\n",
            "5  6  6  6\n"
          ]
        }
      ]
    },
    {
      "cell_type": "code",
      "source": [
        "d = pd.read_csv(\"/content/test_new.csv\", nrows=1) #gets only the first row here\n",
        "\n",
        "print(d)"
      ],
      "metadata": {
        "colab": {
          "base_uri": "https://localhost:8080/"
        },
        "id": "n9a3yNIPU51i",
        "outputId": "4fabd403-4c76-4ab1-9805-eba869676ce4"
      },
      "execution_count": 3,
      "outputs": [
        {
          "output_type": "stream",
          "name": "stdout",
          "text": [
            "   1  2  3\n",
            "0  1  1  1\n"
          ]
        }
      ]
    },
    {
      "cell_type": "code",
      "source": [
        "print(type(d))"
      ],
      "metadata": {
        "colab": {
          "base_uri": "https://localhost:8080/"
        },
        "id": "eWycdnFHVHlz",
        "outputId": "d18eaa63-752f-4d91-84da-4caf2796e990"
      },
      "execution_count": 4,
      "outputs": [
        {
          "output_type": "stream",
          "name": "stdout",
          "text": [
            "<class 'pandas.core.frame.DataFrame'>\n"
          ]
        }
      ]
    },
    {
      "cell_type": "code",
      "source": [
        "d = pd.read_csv(\"/content/test_new.csv\", usecols = [0,1]) #gets the first & second column data here, using the index\n",
        "\n",
        "print(d)"
      ],
      "metadata": {
        "colab": {
          "base_uri": "https://localhost:8080/"
        },
        "id": "iWyfCGilVQ7N",
        "outputId": "c71e007d-7e7d-43d9-851d-c52e8ce9192c"
      },
      "execution_count": 5,
      "outputs": [
        {
          "output_type": "stream",
          "name": "stdout",
          "text": [
            "   1  2\n",
            "0  1  1\n",
            "1  2  2\n",
            "2  3  3\n",
            "3  4  4\n",
            "4  5  5\n",
            "5  6  6\n"
          ]
        }
      ]
    },
    {
      "cell_type": "code",
      "source": [
        "d = pd.read_csv(\"/content/test_new.csv\", skiprows=[0]) #skips the row at 0th index\n",
        "\n",
        "print(d)"
      ],
      "metadata": {
        "colab": {
          "base_uri": "https://localhost:8080/"
        },
        "id": "GSY2kTFgWAHP",
        "outputId": "f49af850-b4fc-4963-f5db-85370b2381d2"
      },
      "execution_count": 6,
      "outputs": [
        {
          "output_type": "stream",
          "name": "stdout",
          "text": [
            "   1  1.1  1.2\n",
            "0  2    2    2\n",
            "1  3    3    3\n",
            "2  4    4    4\n",
            "3  5    5    5\n",
            "4  6    6    6\n"
          ]
        }
      ]
    },
    {
      "cell_type": "code",
      "source": [
        "d = pd.read_csv(\"/content/test_new.csv\", index_col=[0]) #gets the 0th col value as an index\n",
        "\n",
        "print(d)"
      ],
      "metadata": {
        "colab": {
          "base_uri": "https://localhost:8080/"
        },
        "id": "lW15torQWaJ3",
        "outputId": "f0a348fd-7f49-446b-e310-cd9cb78a1b30"
      },
      "execution_count": 7,
      "outputs": [
        {
          "output_type": "stream",
          "name": "stdout",
          "text": [
            "   2  3\n",
            "1      \n",
            "1  1  1\n",
            "2  2  2\n",
            "3  3  3\n",
            "4  4  4\n",
            "5  5  5\n",
            "6  6  6\n"
          ]
        }
      ]
    },
    {
      "cell_type": "code",
      "source": [
        "d = pd.read_csv(\"/content/test_new.csv\", header = 2) #gets the 2nd row as a header\n",
        "\n",
        "print(d)"
      ],
      "metadata": {
        "colab": {
          "base_uri": "https://localhost:8080/"
        },
        "id": "9OAkhbmaWv9U",
        "outputId": "b962e617-b257-4310-abf5-554dfa529ddf"
      },
      "execution_count": 8,
      "outputs": [
        {
          "output_type": "stream",
          "name": "stdout",
          "text": [
            "   2  2.1  2.2\n",
            "0  3    3    3\n",
            "1  4    4    4\n",
            "2  5    5    5\n",
            "3  6    6    6\n"
          ]
        }
      ]
    },
    {
      "cell_type": "code",
      "source": [
        "d = pd.read_csv(\"/content/test_new.csv\", names = [\"Number1\",\"Number2\",\"Number3\"]) #Header\n",
        "\n",
        "print(d)"
      ],
      "metadata": {
        "colab": {
          "base_uri": "https://localhost:8080/"
        },
        "id": "lK4AFejWXJTP",
        "outputId": "f5531223-4d53-4384-92df-77df0fba0021"
      },
      "execution_count": 9,
      "outputs": [
        {
          "output_type": "stream",
          "name": "stdout",
          "text": [
            "   Number1  Number2  Number3\n",
            "0        1        2        3\n",
            "1        1        1        1\n",
            "2        2        2        2\n",
            "3        3        3        3\n",
            "4        4        4        4\n",
            "5        5        5        5\n",
            "6        6        6        6\n"
          ]
        }
      ]
    },
    {
      "cell_type": "code",
      "source": [
        "d = pd.read_csv(\"/content/test_new.csv\", header = None, prefix = \"col\") #assuming there is no header adds a header named col, with diff names\n",
        "print(d)"
      ],
      "metadata": {
        "colab": {
          "base_uri": "https://localhost:8080/"
        },
        "id": "JpF5k-PgXwgH",
        "outputId": "24b98e79-59fb-4392-8984-7a66f1bf87e3"
      },
      "execution_count": 10,
      "outputs": [
        {
          "output_type": "stream",
          "name": "stdout",
          "text": [
            "   col0  col1  col2\n",
            "0     1     2     3\n",
            "1     1     1     1\n",
            "2     2     2     2\n",
            "3     3     3     3\n",
            "4     4     4     4\n",
            "5     5     5     5\n",
            "6     6     6     6\n"
          ]
        },
        {
          "output_type": "stream",
          "name": "stderr",
          "text": [
            "<ipython-input-10-7b4004dcdd06>:1: FutureWarning: The prefix argument has been deprecated and will be removed in a future version. Use a list comprehension on the column names in the future.\n",
            "\n",
            "\n",
            "  d = pd.read_csv(\"/content/test_new.csv\", header = None, prefix = \"col\") #gets only the first row here\n"
          ]
        }
      ]
    },
    {
      "cell_type": "code",
      "source": [
        "d = pd.read_csv(\"/content/test_new.csv\", dtype = {\"2\":\"float\"}) #gets the 2nd col value as float type\n",
        "\n",
        "print(d)"
      ],
      "metadata": {
        "colab": {
          "base_uri": "https://localhost:8080/"
        },
        "id": "R5WcDWbdYOvy",
        "outputId": "eab098e3-bc8e-489d-8ed9-c45b446f4629"
      },
      "execution_count": 11,
      "outputs": [
        {
          "output_type": "stream",
          "name": "stdout",
          "text": [
            "   1    2  3\n",
            "0  1  1.0  1\n",
            "1  2  2.0  2\n",
            "2  3  3.0  3\n",
            "3  4  4.0  4\n",
            "4  5  5.0  5\n",
            "5  6  6.0  6\n"
          ]
        }
      ]
    }
  ]
}