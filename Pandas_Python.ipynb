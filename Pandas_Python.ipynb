{
  "nbformat": 4,
  "nbformat_minor": 0,
  "metadata": {
    "colab": {
      "provenance": [],
      "authorship_tag": "ABX9TyNMAOp8gTVv6vuD/+8AlbI7",
      "include_colab_link": true
    },
    "kernelspec": {
      "name": "python3",
      "display_name": "Python 3"
    },
    "language_info": {
      "name": "python"
    }
  },
  "cells": [
    {
      "cell_type": "markdown",
      "metadata": {
        "id": "view-in-github",
        "colab_type": "text"
      },
      "source": [
        "<a href=\"https://colab.research.google.com/github/alinasahoo/Python/blob/main/Pandas_Python.ipynb\" target=\"_parent\"><img src=\"https://colab.research.google.com/assets/colab-badge.svg\" alt=\"Open In Colab\"/></a>"
      ]
    },
    {
      "cell_type": "markdown",
      "source": [
        "Pandas"
      ],
      "metadata": {
        "id": "g9EP12ZLPkow"
      }
    },
    {
      "cell_type": "code",
      "execution_count": 1,
      "metadata": {
        "colab": {
          "base_uri": "https://localhost:8080/"
        },
        "id": "BawzjZEzPSVL",
        "outputId": "ff63f03d-e0f2-4e6c-fe9e-db8e7e79d003"
      },
      "outputs": [
        {
          "output_type": "stream",
          "name": "stdout",
          "text": [
            "Requirement already satisfied: pandas in /usr/local/lib/python3.10/dist-packages (1.5.3)\n",
            "Requirement already satisfied: python-dateutil>=2.8.1 in /usr/local/lib/python3.10/dist-packages (from pandas) (2.8.2)\n",
            "Requirement already satisfied: pytz>=2020.1 in /usr/local/lib/python3.10/dist-packages (from pandas) (2022.7.1)\n",
            "Requirement already satisfied: numpy>=1.21.0 in /usr/local/lib/python3.10/dist-packages (from pandas) (1.23.5)\n",
            "Requirement already satisfied: six>=1.5 in /usr/local/lib/python3.10/dist-packages (from python-dateutil>=2.8.1->pandas) (1.16.0)\n"
          ]
        }
      ],
      "source": [
        "pip install pandas"
      ]
    },
    {
      "cell_type": "markdown",
      "source": [
        "Series - One Dimensional Array"
      ],
      "metadata": {
        "id": "rHr5ISViQzDi"
      }
    },
    {
      "cell_type": "code",
      "source": [
        "import pandas as pd\n",
        "\n",
        "x = [1,2,3,4,5,6,7,8]\n",
        "\n",
        "var = pd.Series(x)\n",
        "print(var)\n",
        "print(type(var)) # checks if it series or not"
      ],
      "metadata": {
        "colab": {
          "base_uri": "https://localhost:8080/"
        },
        "id": "VbdMtFdUQ1nd",
        "outputId": "cfdfb6cc-4897-4b69-a181-4ac77fcf39f4"
      },
      "execution_count": 2,
      "outputs": [
        {
          "output_type": "stream",
          "name": "stdout",
          "text": [
            "0    1\n",
            "1    2\n",
            "2    3\n",
            "3    4\n",
            "4    5\n",
            "5    6\n",
            "6    7\n",
            "7    8\n",
            "dtype: int64\n",
            "<class 'pandas.core.series.Series'>\n"
          ]
        }
      ]
    },
    {
      "cell_type": "code",
      "source": [
        "print(var[2]) # prints the variable at index 2"
      ],
      "metadata": {
        "colab": {
          "base_uri": "https://localhost:8080/"
        },
        "id": "c9xgc-OcQ4Ux",
        "outputId": "cb0a5b6f-e027-4629-f43f-324f11b11b16"
      },
      "execution_count": 3,
      "outputs": [
        {
          "output_type": "stream",
          "name": "stdout",
          "text": [
            "3\n"
          ]
        }
      ]
    },
    {
      "cell_type": "code",
      "source": [
        "# Changing the index\n",
        "\n",
        "x = [2,3,4,5]\n",
        "var = pd.Series(x,index =['a','b','c','d'], dtype = \"float\", name = \"python\")\n",
        "print(var)\n",
        "print(type(var))"
      ],
      "metadata": {
        "colab": {
          "base_uri": "https://localhost:8080/"
        },
        "id": "-lCFdxqER0u-",
        "outputId": "290418c3-b62b-47f3-cb70-282639635f26"
      },
      "execution_count": 4,
      "outputs": [
        {
          "output_type": "stream",
          "name": "stdout",
          "text": [
            "a    2.0\n",
            "b    3.0\n",
            "c    4.0\n",
            "d    5.0\n",
            "Name: python, dtype: float64\n",
            "<class 'pandas.core.series.Series'>\n"
          ]
        }
      ]
    },
    {
      "cell_type": "code",
      "source": [
        "# Dictionary\n",
        "\n",
        "dic = {\"name\":['Python', 'C', 'C++', 'Java'], \"por\":[12,13,14,15], \"rank\":[1,4,3,2]}\n",
        "\n",
        "var1 = pd.Series(dic)\n",
        "var1"
      ],
      "metadata": {
        "colab": {
          "base_uri": "https://localhost:8080/"
        },
        "id": "j2ArgAmqSFw0",
        "outputId": "1e0818ab-7db7-496c-f835-9b42cfa8dc02"
      },
      "execution_count": 5,
      "outputs": [
        {
          "output_type": "execute_result",
          "data": {
            "text/plain": [
              "name    [Python, C, C++, Java]\n",
              "por           [12, 13, 14, 15]\n",
              "rank              [1, 4, 3, 2]\n",
              "dtype: object"
            ]
          },
          "metadata": {},
          "execution_count": 5
        }
      ]
    },
    {
      "cell_type": "code",
      "source": [
        "s = pd.Series(12)\n",
        "\n",
        "print(s)\n",
        "print(type(s))"
      ],
      "metadata": {
        "colab": {
          "base_uri": "https://localhost:8080/"
        },
        "id": "wOobKC4rUOXM",
        "outputId": "8ce4f323-156c-470d-d403-1db587df710e"
      },
      "execution_count": 6,
      "outputs": [
        {
          "output_type": "stream",
          "name": "stdout",
          "text": [
            "0    12\n",
            "dtype: int64\n",
            "<class 'pandas.core.series.Series'>\n"
          ]
        }
      ]
    },
    {
      "cell_type": "code",
      "source": [
        "s = pd.Series(12, index = [1,2,3,4,5,6,7])\n",
        "\n",
        "print(s)\n",
        "print(type(s))"
      ],
      "metadata": {
        "colab": {
          "base_uri": "https://localhost:8080/"
        },
        "id": "3gBH7Z9lUlK6",
        "outputId": "fd380003-d5ea-41b1-895e-3d175f985f1b"
      },
      "execution_count": 7,
      "outputs": [
        {
          "output_type": "stream",
          "name": "stdout",
          "text": [
            "1    12\n",
            "2    12\n",
            "3    12\n",
            "4    12\n",
            "5    12\n",
            "6    12\n",
            "7    12\n",
            "dtype: int64\n",
            "<class 'pandas.core.series.Series'>\n"
          ]
        }
      ]
    },
    {
      "cell_type": "code",
      "source": [
        "s1 = pd.Series(12, index = [1,2,3,4,5,6,7])\n",
        "s2 = pd.Series(12, index = [1,2,3,4])\n",
        "\n",
        "print(s1+s2) # No values after the 4th index for s2, hence NaN(Not a Number)"
      ],
      "metadata": {
        "colab": {
          "base_uri": "https://localhost:8080/"
        },
        "id": "bwSjdb5kUuxD",
        "outputId": "4f0c0d93-6a47-4495-81e1-82e2bf817f28"
      },
      "execution_count": 8,
      "outputs": [
        {
          "output_type": "stream",
          "name": "stdout",
          "text": [
            "1    24.0\n",
            "2    24.0\n",
            "3    24.0\n",
            "4    24.0\n",
            "5     NaN\n",
            "6     NaN\n",
            "7     NaN\n",
            "dtype: float64\n"
          ]
        }
      ]
    }
  ]
}